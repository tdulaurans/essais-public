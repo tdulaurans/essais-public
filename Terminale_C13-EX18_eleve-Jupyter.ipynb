{
 "cells": [
  {
   "cell_type": "code",
   "execution_count": 1,
   "metadata": {},
   "outputs": [
    {
     "data": {
      "application/vnd.jupyter.widget-view+json": {
       "model_id": "73de42d06e494f6693ce9ce4ddde6ee1",
       "version_major": 2,
       "version_minor": 0
      },
      "text/plain": [
       "interactive(children=(FloatSlider(value=8.0, description='Coefficient directeur', layout=Layout(flex='1 1 auto…"
      ]
     },
     "metadata": {},
     "output_type": "display_data"
    }
   ],
   "source": [
    "import matplotlib.pyplot as plt\n",
    "import ipywidgets as widgets\n",
    "from matplotlib.gridspec import GridSpec\n",
    "import pandas as pd\n",
    "import numpy as np\n",
    "\n",
    "################################################################################\n",
    "#LECTURE DU FICHIER de type csv\n",
    "################################################################################\n",
    "fichier='Satellites_artificiels.csv'\n",
    "Data = pd.read_csv(fichier, sep=';', header=0)\n",
    "\n",
    "T = Data['T(s)']\n",
    "a = Data['a(km)']\n",
    "\n",
    "#Calcul des variable associée à la fonction\n",
    "Tcarre = T**2\n",
    "acube = a**3\n",
    "\n",
    "################################################################################\n",
    "#fonction de tracé de la courbe\n",
    "################################################################################\n",
    "def trace_avec_regression(pente) : \n",
    "    '''Cette fonction trace la régrassion d'une fonction linéaire obtenu avec des points expérimentaux\n",
    "    '''\n",
    "    plt.figure(figsize=(16,8))\n",
    "    acube_regression=np.linspace(0,acube[2]*2,5)\n",
    "    T_regression = pente*acube_regression*1e-5\n",
    "    plt.xlabel('$r^3$ $(m^3)$', fontsize=16)\n",
    "    plt.ylabel('$T^2$ $(s^2)$', fontsize=16)\n",
    "    plt.title('$T^2 = f(r^3)$', fontsize=18)\n",
    "    plt.axis([0,max(acube)*1.15,0,max(Tcarre)*1.15]) \n",
    "    plt.tick_params(labelsize=14)\n",
    "    plt.xlim(0,1.05*max(acube))\n",
    "    plt.grid(which=\"major\",linestyle='-',linewidth=1, color='black')\n",
    "    plt.grid(which=\"minor\",linestyle='--')\n",
    "    ax=plt.gca()\n",
    "    ax.minorticks_on()\n",
    "    plt.plot(acube_regression,T_regression, label=\"Régresson linéaire\")\n",
    "    plt.scatter(acube, Tcarre, s=50, color='r', marker='x',label='points expérimentaux') \n",
    "    plt.legend()\n",
    "    equa = ax.text(max(acube)*0.7,max(Tcarre)*0.15,'$T^2 =$'+ str(pente)+r'$\\times 10^{-5} r^3$',\n",
    "                   fontsize = 16, color=\"green\", backgroundcolor = \"#FFFF55\")\n",
    "\n",
    "################################################################################\n",
    "#creation du widget\n",
    "################################################################################\n",
    "pente_widget=widgets.FloatSlider(style = {'description_width': 'auto'},\n",
    "                              value=8.0, min=2.0, max=11.,\n",
    "                              step=0.2,\n",
    "                              layout=widgets.Layout(flex='1 1 auto', width='auto'),\n",
    "                              description=\"Coefficient directeur\",\n",
    "                              orientation='horizontal')\n",
    "\n",
    "\n",
    "widgets.interact(trace_avec_regression,pente=pente_widget)\n",
    "plt.show()"
   ]
  },
  {
   "cell_type": "code",
   "execution_count": null,
   "metadata": {},
   "outputs": [],
   "source": []
  }
 ],
 "metadata": {
  "kernelspec": {
   "display_name": "Python 3",
   "language": "python",
   "name": "python3"
  },
  "language_info": {
   "codemirror_mode": {
    "name": "ipython",
    "version": 3
   },
   "file_extension": ".py",
   "mimetype": "text/x-python",
   "name": "python",
   "nbconvert_exporter": "python",
   "pygments_lexer": "ipython3",
   "version": "3.7.6"
  }
 },
 "nbformat": 4,
 "nbformat_minor": 2
}
